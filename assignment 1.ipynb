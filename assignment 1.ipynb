{
 "cells": [
  {
   "cell_type": "raw",
   "id": "91aa7b21-b674-4821-bf31-9eeb6b15fb71",
   "metadata": {},
   "source": [
    "Q1. Create one variable containing following type of data:\n",
    "(i) string\n",
    "(ii) list\n",
    "(iii) float\n",
    "(iv) tuple"
   ]
  },
  {
   "cell_type": "code",
   "execution_count": 5,
   "id": "46bb3909-888d-47f7-8708-d18ee9cf5a52",
   "metadata": {},
   "outputs": [],
   "source": [
    "my_string=\"prathmesh\""
   ]
  },
  {
   "cell_type": "code",
   "execution_count": 8,
   "id": "eaabc44c-88c4-40cd-a0e1-ea6c4aef3826",
   "metadata": {},
   "outputs": [
    {
     "name": "stdout",
     "output_type": "stream",
     "text": [
      "<class 'str'>\n"
     ]
    }
   ],
   "source": [
    "print (type(my_string))"
   ]
  },
  {
   "cell_type": "code",
   "execution_count": 10,
   "id": "8832bd15-b67f-4388-b5a1-652367d087fd",
   "metadata": {},
   "outputs": [
    {
     "name": "stdout",
     "output_type": "stream",
     "text": [
      "<class 'list'>\n"
     ]
    }
   ],
   "source": [
    "my_list= [20,30,40]\n",
    "print (type(my_list))"
   ]
  },
  {
   "cell_type": "code",
   "execution_count": 11,
   "id": "03679504-7f94-44b7-9363-94041eee00b2",
   "metadata": {},
   "outputs": [
    {
     "name": "stdout",
     "output_type": "stream",
     "text": [
      "<class 'float'>\n"
     ]
    }
   ],
   "source": [
    "my_float= 3.8\n",
    "print (type(my_float))"
   ]
  },
  {
   "cell_type": "code",
   "execution_count": 12,
   "id": "e643af9a-249f-4ffc-894a-3460ba3174f0",
   "metadata": {},
   "outputs": [
    {
     "name": "stdout",
     "output_type": "stream",
     "text": [
      "<class 'tuple'>\n"
     ]
    }
   ],
   "source": [
    "my_tuple= 20,30,40\n",
    "print (type(my_tuple))"
   ]
  },
  {
   "cell_type": "raw",
   "id": "76de7e87-c044-4ab7-a170-71148cc81550",
   "metadata": {},
   "source": [
    "Q2. Given are some following variables containing data:\n",
    "(i) var1 = ‘ ‘\n",
    "(ii) var2 = ‘[ DS , ML , Python]’\n",
    "(iii) var3 = [ ‘DS’ , ’ML’ , ‘Python’ ]\n",
    "(iv) var4 = 1.\n",
    "\n",
    "What will be the data type of the above given variable.\n"
   ]
  },
  {
   "cell_type": "code",
   "execution_count": 20,
   "id": "6a4e54cd-a6ce-4998-a87d-0e67e6ad0e16",
   "metadata": {},
   "outputs": [
    {
     "name": "stdout",
     "output_type": "stream",
     "text": [
      "<class 'str'>\n",
      "<class 'str'>\n",
      "<class 'list'>\n",
      "<class 'int'>\n"
     ]
    }
   ],
   "source": [
    "print (type(var1))\n",
    "print (type(var2))\n",
    "print (type(var3))\n",
    "print (type(var4))"
   ]
  },
  {
   "cell_type": "raw",
   "id": "64279e68-c187-4de8-b508-a45dce63a3e9",
   "metadata": {},
   "source": [
    "Q3. Explain the use of the following operators using an example:\n",
    "(i) /\n",
    "(ii) %\n",
    "(iii) //\n",
    "(iv) **"
   ]
  },
  {
   "cell_type": "code",
   "execution_count": 4,
   "id": "7e3a561b-b583-4008-990a-e0f65b3d45bb",
   "metadata": {},
   "outputs": [
    {
     "name": "stdout",
     "output_type": "stream",
     "text": [
      "5.0\n"
     ]
    }
   ],
   "source": [
    "p = 10 / 2\n",
    "print(p)  \n"
   ]
  },
  {
   "cell_type": "code",
   "execution_count": 6,
   "id": "35ac8886-f671-4a76-bb2a-e12d97f71c83",
   "metadata": {},
   "outputs": [
    {
     "name": "stdout",
     "output_type": "stream",
     "text": [
      "1\n"
     ]
    }
   ],
   "source": [
    "p = 10 % 3\n",
    "print(p)  "
   ]
  },
  {
   "cell_type": "code",
   "execution_count": 5,
   "id": "af1bb597-757f-4feb-91f3-e2478e88a9ee",
   "metadata": {},
   "outputs": [
    {
     "name": "stdout",
     "output_type": "stream",
     "text": [
      "3\n"
     ]
    }
   ],
   "source": [
    "p = 10 // 3\n",
    "print(p)  \n"
   ]
  },
  {
   "cell_type": "code",
   "execution_count": 7,
   "id": "bf229e35-8337-4e87-b638-679166d809a5",
   "metadata": {},
   "outputs": [
    {
     "name": "stdout",
     "output_type": "stream",
     "text": [
      "8\n"
     ]
    }
   ],
   "source": [
    "p = 2 ** 3\n",
    "print(p)  \n"
   ]
  },
  {
   "cell_type": "raw",
   "id": "34599083-df43-48b7-a204-8dc5af2196ab",
   "metadata": {},
   "source": [
    "Q4. Create a list of length 10 of your choice containing multiple types of data. Using for loop print the\n",
    "element and its data type."
   ]
  },
  {
   "cell_type": "code",
   "execution_count": 8,
   "id": "5c6f1375-a214-40a9-be63-019f244df9da",
   "metadata": {},
   "outputs": [
    {
     "name": "stdout",
     "output_type": "stream",
     "text": [
      "Element: 1, Data Type: <class 'int'>\n",
      "Element: Hello, Data Type: <class 'str'>\n",
      "Element: 3.14, Data Type: <class 'float'>\n",
      "Element: True, Data Type: <class 'bool'>\n",
      "Element: [5, 6], Data Type: <class 'list'>\n",
      "Element: {'name': 'John', 'age': 30}, Data Type: <class 'dict'>\n",
      "Element: None, Data Type: <class 'NoneType'>\n",
      "Element: (7, 8), Data Type: <class 'tuple'>\n",
      "Element: 9.99, Data Type: <class 'float'>\n",
      "Element: False, Data Type: <class 'bool'>\n"
     ]
    }
   ],
   "source": [
    "my_list = [1, \"Hello\", 3.14, True, [5, 6], {\"name\": \"John\", \"age\": 30}, None, (7, 8), 9.99, False]\n",
    "\n",
    "for item in my_list:\n",
    "    print(f\"Element: {item}, Data Type: {type(item)}\")\n"
   ]
  },
  {
   "cell_type": "raw",
   "id": "d6ce3a59-6762-4b55-bdcc-6d786d42a237",
   "metadata": {},
   "source": [
    "Q5. Using a while loop, verify if the number A is purely divisible by number B and if so then how many\n",
    "times it can be divisible."
   ]
  },
  {
   "cell_type": "code",
   "execution_count": null,
   "id": "b7802d06-8dbf-418c-b4c1-ba0f8ec350bb",
   "metadata": {},
   "outputs": [
    {
     "name": "stdin",
     "output_type": "stream",
     "text": [
      "Enter number A:  1\n",
      "Enter number B:  2\n"
     ]
    },
    {
     "name": "stdout",
     "output_type": "stream",
     "text": [
      "0 times divisible by 2, and A is purely divisible by B.\n"
     ]
    }
   ],
   "source": [
    "# Input the values of A and B\n",
    "A = int(input(\"Enter number A: \"))\n",
    "B = int(input(\"Enter number B: \"))\n",
    "\n",
    "# Initialize a count variable to keep track of divisions\n",
    "count = 0\n",
    "\n",
    "# Use a while loop to perform divisions until A is not divisible by B\n",
    "while A % B == 0:\n",
    "    A = A // B  # Divide A by B\n",
    "    count += 1  # Increment the count\n",
    "\n",
    "# Check if A eventually becomes 1 (purely divisible) or not\n",
    "if A == 1:\n",
    "    print(f\"{count} times divisible by {B}, and A is purely divisible by B.\")\n",
    "else:\n",
    "    print(f\"{count} times divisible by {B}, and A is not purely divisible by B.\")\n"
   ]
  },
  {
   "cell_type": "raw",
   "id": "fee8c6a4-1f19-4560-95ea-e5b92cb07884",
   "metadata": {},
   "source": [
    "Q6. Create a list containing 25 int type data. Using for loop and if-else condition print if the element is\n",
    "divisible by 3 or not."
   ]
  },
  {
   "cell_type": "code",
   "execution_count": 10,
   "id": "eb64e851-a633-4333-ac99-32aa79d2817d",
   "metadata": {},
   "outputs": [
    {
     "name": "stdout",
     "output_type": "stream",
     "text": [
      "1 is not divisible by 3.\n",
      "2 is not divisible by 3.\n",
      "3 is divisible by 3.\n",
      "4 is not divisible by 3.\n",
      "5 is not divisible by 3.\n",
      "6 is divisible by 3.\n",
      "7 is not divisible by 3.\n",
      "8 is not divisible by 3.\n",
      "9 is divisible by 3.\n",
      "10 is not divisible by 3.\n",
      "11 is not divisible by 3.\n",
      "12 is divisible by 3.\n",
      "13 is not divisible by 3.\n",
      "14 is not divisible by 3.\n",
      "15 is divisible by 3.\n",
      "16 is not divisible by 3.\n",
      "17 is not divisible by 3.\n",
      "18 is divisible by 3.\n",
      "19 is not divisible by 3.\n",
      "20 is not divisible by 3.\n",
      "21 is divisible by 3.\n",
      "22 is not divisible by 3.\n",
      "23 is not divisible by 3.\n",
      "24 is divisible by 3.\n",
      "25 is not divisible by 3.\n"
     ]
    }
   ],
   "source": [
    "# Create a list of 25 integers\n",
    "my_list = [1, 2, 3, 4, 5, 6, 7, 8, 9, 10,\n",
    "           11, 12, 13, 14, 15, 16, 17, 18, 19, 20,\n",
    "           21, 22, 23, 24, 25]\n",
    "\n",
    "# Use a for loop to iterate through the list\n",
    "for num in my_list:\n",
    "    if num % 3 == 0:\n",
    "        print(f\"{num} is divisible by 3.\")\n",
    "    else:\n",
    "        print(f\"{num} is not divisible by 3.\")\n"
   ]
  },
  {
   "cell_type": "raw",
   "id": "9496ac2f-2447-4f96-88be-2d8274afb1ec",
   "metadata": {},
   "source": [
    "Q7. What do you understand about mutable and immutable data types? Give examples for both showing\n",
    "this property."
   ]
  },
  {
   "cell_type": "code",
   "execution_count": 11,
   "id": "b36bc0f9-5f35-4a0e-9333-755b6cac1f55",
   "metadata": {},
   "outputs": [
    {
     "name": "stdout",
     "output_type": "stream",
     "text": [
      "[100, 2, 3]\n"
     ]
    }
   ],
   "source": [
    "my_list = [1, 2, 3]\n",
    "my_list[0] = 100  # Modifying the first element\n",
    "print(my_list)  # Output: [100, 2, 3]\n"
   ]
  },
  {
   "cell_type": "code",
   "execution_count": 12,
   "id": "c2b57cb9-e3ab-4ab0-8d74-38d143fd8d9d",
   "metadata": {},
   "outputs": [
    {
     "name": "stdout",
     "output_type": "stream",
     "text": [
      "6\n"
     ]
    }
   ],
   "source": [
    "my_num = 5\n",
    "my_num = my_num + 1  # Creating a new integer object with the value 6\n",
    "print(my_num)  # Output: 6\n"
   ]
  },
  {
   "cell_type": "code",
   "execution_count": null,
   "id": "c74e00db-e31c-4066-94fb-02e6bc20f70b",
   "metadata": {},
   "outputs": [],
   "source": []
  }
 ],
 "metadata": {
  "kernelspec": {
   "display_name": "Python 3 (ipykernel)",
   "language": "python",
   "name": "python3"
  },
  "language_info": {
   "codemirror_mode": {
    "name": "ipython",
    "version": 3
   },
   "file_extension": ".py",
   "mimetype": "text/x-python",
   "name": "python",
   "nbconvert_exporter": "python",
   "pygments_lexer": "ipython3",
   "version": "3.10.8"
  }
 },
 "nbformat": 4,
 "nbformat_minor": 5
}
